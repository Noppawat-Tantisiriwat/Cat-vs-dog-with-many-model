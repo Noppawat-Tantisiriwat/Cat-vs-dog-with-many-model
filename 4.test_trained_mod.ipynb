{
 "metadata": {
  "language_info": {
   "codemirror_mode": {
    "name": "ipython",
    "version": 3
   },
   "file_extension": ".py",
   "mimetype": "text/x-python",
   "name": "python",
   "nbconvert_exporter": "python",
   "pygments_lexer": "ipython3",
   "version": "3.7.7-final"
  },
  "orig_nbformat": 2,
  "kernelspec": {
   "name": "python3",
   "display_name": "Python 3.7.7 64-bit",
   "metadata": {
    "interpreter": {
     "hash": "5b0b4c45cfe7490bdfaa829b5953ab2aed6c534f797643e365b4be91477e52ac"
    }
   }
  }
 },
 "nbformat": 4,
 "nbformat_minor": 2,
 "cells": [
  {
   "cell_type": "code",
   "execution_count": 2,
   "metadata": {},
   "outputs": [],
   "source": [
    "import botnoi as bn\n",
    "import pickle as p\n",
    "import sklearn\n",
    "import numpy as np"
   ]
  },
  {
   "cell_type": "code",
   "execution_count": 3,
   "metadata": {},
   "outputs": [],
   "source": [
    "def decoder(array):\n",
    "    if array[0] == 0:\n",
    "        return np.array(['แมว'])\n",
    "    if array[0] == 1:\n",
    "        return np.array(['หมา'])"
   ]
  },
  {
   "cell_type": "code",
   "execution_count": 4,
   "metadata": {},
   "outputs": [],
   "source": [
    "def np_img(DIR):\n",
    "    im = bn.cv.image(DIR.replace(\"\\\\\", \"/\"))\n",
    "    return np.array([im.getresnet50()])"
   ]
  },
  {
   "cell_type": "code",
   "execution_count": 97,
   "metadata": {},
   "outputs": [],
   "source": [
    "DIR = u\"D:\\AI\\\\botnoi CV\\Model\\Botnoi_API_Heroku\\Biweekly_Project\\\\01\\cats_dogs_vs_jackfruits_durians\\\\OUTGROUP_PICT\\\\2021-02-28 (18).png\""
   ]
  },
  {
   "cell_type": "code",
   "execution_count": 98,
   "metadata": {},
   "outputs": [],
   "source": [
    "im1_resnet50 = np_img(DIR)"
   ]
  },
  {
   "cell_type": "code",
   "execution_count": 99,
   "metadata": {},
   "outputs": [
    {
     "output_type": "execute_result",
     "data": {
      "text/plain": [
       "array([[0., 0., 0., ..., 0., 0., 0.]])"
      ]
     },
     "metadata": {},
     "execution_count": 99
    }
   ],
   "source": [
    "im1_resnet50"
   ]
  },
  {
   "cell_type": "code",
   "execution_count": 100,
   "metadata": {},
   "outputs": [],
   "source": [
    "with open(\"Linear_SVC_sklearn.mod\", \"rb\") as file:\n",
    "    lin_svc = p.load(file)"
   ]
  },
  {
   "cell_type": "code",
   "execution_count": 101,
   "metadata": {},
   "outputs": [
    {
     "output_type": "execute_result",
     "data": {
      "text/plain": [
       "array(['แมว'], dtype='<U3')"
      ]
     },
     "metadata": {},
     "execution_count": 101
    }
   ],
   "source": [
    "decoder(lin_svc.predict(np.vstack(im1_resnet50)))"
   ]
  },
  {
   "cell_type": "code",
   "execution_count": 102,
   "metadata": {},
   "outputs": [],
   "source": [
    "with open(\"Neural_Network_sklearn.mod\", \"rb\") as file:\n",
    "    nn = p.load(file)"
   ]
  },
  {
   "cell_type": "code",
   "execution_count": 103,
   "metadata": {},
   "outputs": [
    {
     "output_type": "execute_result",
     "data": {
      "text/plain": [
       "array(['แมว'], dtype='<U3')"
      ]
     },
     "metadata": {},
     "execution_count": 103
    }
   ],
   "source": [
    "decoder(nn.predict(np.vstack(im1_resnet50)))"
   ]
  },
  {
   "cell_type": "code",
   "execution_count": 104,
   "metadata": {},
   "outputs": [],
   "source": [
    "with open(\"Logistic_CV_sklearn.mod\", \"rb\") as file:\n",
    "    log_cv = p.load(file)"
   ]
  },
  {
   "cell_type": "code",
   "execution_count": 105,
   "metadata": {},
   "outputs": [
    {
     "output_type": "execute_result",
     "data": {
      "text/plain": [
       "array(['แมว'], dtype='<U3')"
      ]
     },
     "metadata": {},
     "execution_count": 105
    }
   ],
   "source": [
    "decoder(log_cv.predict(np.vstack(im1_resnet50)))"
   ]
  },
  {
   "cell_type": "code",
   "execution_count": null,
   "metadata": {},
   "outputs": [],
   "source": []
  }
 ]
}