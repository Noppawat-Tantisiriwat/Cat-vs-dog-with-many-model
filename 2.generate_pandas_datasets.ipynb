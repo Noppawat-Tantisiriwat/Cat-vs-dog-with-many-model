{
 "metadata": {
  "language_info": {
   "codemirror_mode": {
    "name": "ipython",
    "version": 3
   },
   "file_extension": ".py",
   "mimetype": "text/x-python",
   "name": "python",
   "nbconvert_exporter": "python",
   "pygments_lexer": "ipython3",
   "version": "3.7.7-final"
  },
  "orig_nbformat": 2,
  "kernelspec": {
   "name": "python3",
   "display_name": "Python 3.7.7 64-bit",
   "metadata": {
    "interpreter": {
     "hash": "5b0b4c45cfe7490bdfaa829b5953ab2aed6c534f797643e365b4be91477e52ac"
    }
   }
  }
 },
 "nbformat": 4,
 "nbformat_minor": 2,
 "cells": [
  {
   "cell_type": "code",
   "execution_count": 13,
   "metadata": {},
   "outputs": [],
   "source": [
    "import tensorflow as tf\n",
    "from tensorflow.keras import layers\n"
   ]
  },
  {
   "cell_type": "code",
   "execution_count": 14,
   "metadata": {},
   "outputs": [],
   "source": [
    "import pickle as p\n",
    "import pandas as pd\n",
    "import numpy as np\n",
    "import matplotlib.pyplot as plt"
   ]
  },
  {
   "cell_type": "code",
   "execution_count": 16,
   "metadata": {},
   "outputs": [],
   "source": [
    "from sklearn.preprocessing import LabelEncoder"
   ]
  },
  {
   "cell_type": "code",
   "execution_count": 18,
   "metadata": {},
   "outputs": [],
   "source": [
    "def to_df_data_p(pdataset_path, label):\n",
    "    with open(pdataset_path, \"rb\") as file:\n",
    "        data_dict = {\"ResNet50\" : p.load(file)}\n",
    "    df = pd.DataFrame(data=data_dict)\n",
    "    df.dropna(inplace=True)\n",
    "    df[\"Label\"] = [label for i in range(df.shape[0])]\n",
    "    \n",
    "    return df"
   ]
  },
  {
   "cell_type": "code",
   "execution_count": null,
   "metadata": {},
   "outputs": [],
   "source": [
    "df_dog = to_df_data_p(\"dogs_datasets.p\", \"Dogs\")"
   ]
  },
  {
   "cell_type": "code",
   "execution_count": 23,
   "metadata": {},
   "outputs": [
    {
     "output_type": "stream",
     "name": "stdout",
     "text": [
      "<class 'pandas.core.frame.DataFrame'>\nInt64Index: 5017 entries, 0 to 5016\nData columns (total 2 columns):\n #   Column    Non-Null Count  Dtype \n---  ------    --------------  ----- \n 0   ResNet50  5017 non-null   object\n 1   Label     5017 non-null   object\ndtypes: object(2)\nmemory usage: 117.6+ KB\n"
     ]
    }
   ],
   "source": [
    "df_dog.info()"
   ]
  },
  {
   "cell_type": "code",
   "execution_count": 24,
   "metadata": {},
   "outputs": [],
   "source": [
    "df_cat = to_df_data_p(\"cats_datasets.p\", \"Cats\")"
   ]
  },
  {
   "cell_type": "code",
   "execution_count": 25,
   "metadata": {},
   "outputs": [
    {
     "output_type": "execute_result",
     "data": {
      "text/plain": [
       "                                               ResNet50 Label\n",
       "0     [0.009593412626581048, 0.0, 0.0045204054572140...  Cats\n",
       "1     [0.0, 0.0, 0.0, 0.0, 0.0, 0.0, 0.0, 0.0, 0.0, ...  Cats\n",
       "2     [0.0, 0.0, 0.0, 0.0, 0.0, 0.0, 0.0, 0.0, 0.0, ...  Cats\n",
       "3     [0.0, 0.003843111530721432, 0.0, 0.0, 0.0, 0.0...  Cats\n",
       "4     [0.0, 0.0, 0.0, 0.003371714725279531, 0.0, 0.0...  Cats\n",
       "...                                                 ...   ...\n",
       "5006  [0.0, 0.0, 0.0, 0.0, 0.0, 0.0, 0.0, 0.0, 0.0, ...  Cats\n",
       "5007  [0.0, 0.0, 0.0, 0.010207850577404665, 0.0, 0.0...  Cats\n",
       "5008  [0.0, 0.0, 0.0, 0.0, 0.0, 0.0, 0.0, 0.0, 0.0, ...  Cats\n",
       "5009  [0.0, 0.0, 0.0, 0.0, 0.0, 0.0, 0.0024008631617...  Cats\n",
       "5010  [0.0, 0.0027991985895462522, 0.0, 0.0, 0.0, 0....  Cats\n",
       "\n",
       "[5011 rows x 2 columns]"
      ],
      "text/html": "<div>\n<style scoped>\n    .dataframe tbody tr th:only-of-type {\n        vertical-align: middle;\n    }\n\n    .dataframe tbody tr th {\n        vertical-align: top;\n    }\n\n    .dataframe thead th {\n        text-align: right;\n    }\n</style>\n<table border=\"1\" class=\"dataframe\">\n  <thead>\n    <tr style=\"text-align: right;\">\n      <th></th>\n      <th>ResNet50</th>\n      <th>Label</th>\n    </tr>\n  </thead>\n  <tbody>\n    <tr>\n      <th>0</th>\n      <td>[0.009593412626581048, 0.0, 0.0045204054572140...</td>\n      <td>Cats</td>\n    </tr>\n    <tr>\n      <th>1</th>\n      <td>[0.0, 0.0, 0.0, 0.0, 0.0, 0.0, 0.0, 0.0, 0.0, ...</td>\n      <td>Cats</td>\n    </tr>\n    <tr>\n      <th>2</th>\n      <td>[0.0, 0.0, 0.0, 0.0, 0.0, 0.0, 0.0, 0.0, 0.0, ...</td>\n      <td>Cats</td>\n    </tr>\n    <tr>\n      <th>3</th>\n      <td>[0.0, 0.003843111530721432, 0.0, 0.0, 0.0, 0.0...</td>\n      <td>Cats</td>\n    </tr>\n    <tr>\n      <th>4</th>\n      <td>[0.0, 0.0, 0.0, 0.003371714725279531, 0.0, 0.0...</td>\n      <td>Cats</td>\n    </tr>\n    <tr>\n      <th>...</th>\n      <td>...</td>\n      <td>...</td>\n    </tr>\n    <tr>\n      <th>5006</th>\n      <td>[0.0, 0.0, 0.0, 0.0, 0.0, 0.0, 0.0, 0.0, 0.0, ...</td>\n      <td>Cats</td>\n    </tr>\n    <tr>\n      <th>5007</th>\n      <td>[0.0, 0.0, 0.0, 0.010207850577404665, 0.0, 0.0...</td>\n      <td>Cats</td>\n    </tr>\n    <tr>\n      <th>5008</th>\n      <td>[0.0, 0.0, 0.0, 0.0, 0.0, 0.0, 0.0, 0.0, 0.0, ...</td>\n      <td>Cats</td>\n    </tr>\n    <tr>\n      <th>5009</th>\n      <td>[0.0, 0.0, 0.0, 0.0, 0.0, 0.0, 0.0024008631617...</td>\n      <td>Cats</td>\n    </tr>\n    <tr>\n      <th>5010</th>\n      <td>[0.0, 0.0027991985895462522, 0.0, 0.0, 0.0, 0....</td>\n      <td>Cats</td>\n    </tr>\n  </tbody>\n</table>\n<p>5011 rows × 2 columns</p>\n</div>"
     },
     "metadata": {},
     "execution_count": 25
    }
   ],
   "source": [
    "df_cat"
   ]
  },
  {
   "cell_type": "code",
   "execution_count": 26,
   "metadata": {},
   "outputs": [
    {
     "output_type": "execute_result",
     "data": {
      "text/plain": [
       "                                               ResNet50 Label\n",
       "0     [0.0, 0.0, 0.0, 0.0005277221405947443, 0.0, 0....  Dogs\n",
       "1     [0.0, 0.0, 0.0, 0.0, 0.0, 0.0, 0.0, 0.0, 0.0, ...  Dogs\n",
       "2     [0.0, 0.0, 0.0, 0.0, 0.0, 0.0, 0.0, 0.0, 0.0, ...  Dogs\n",
       "3     [0.0, 0.0, 0.0, 0.005319274882568527, 0.0, 0.0...  Dogs\n",
       "4     [0.0, 0.0, 0.0, 0.005244524803316583, 0.0, 0.0...  Dogs\n",
       "...                                                 ...   ...\n",
       "5006  [0.0, 0.0, 0.0, 0.0, 0.0, 0.0, 0.0, 0.0, 0.0, ...  Cats\n",
       "5007  [0.0, 0.0, 0.0, 0.010207850577404665, 0.0, 0.0...  Cats\n",
       "5008  [0.0, 0.0, 0.0, 0.0, 0.0, 0.0, 0.0, 0.0, 0.0, ...  Cats\n",
       "5009  [0.0, 0.0, 0.0, 0.0, 0.0, 0.0, 0.0024008631617...  Cats\n",
       "5010  [0.0, 0.0027991985895462522, 0.0, 0.0, 0.0, 0....  Cats\n",
       "\n",
       "[10028 rows x 2 columns]"
      ],
      "text/html": "<div>\n<style scoped>\n    .dataframe tbody tr th:only-of-type {\n        vertical-align: middle;\n    }\n\n    .dataframe tbody tr th {\n        vertical-align: top;\n    }\n\n    .dataframe thead th {\n        text-align: right;\n    }\n</style>\n<table border=\"1\" class=\"dataframe\">\n  <thead>\n    <tr style=\"text-align: right;\">\n      <th></th>\n      <th>ResNet50</th>\n      <th>Label</th>\n    </tr>\n  </thead>\n  <tbody>\n    <tr>\n      <th>0</th>\n      <td>[0.0, 0.0, 0.0, 0.0005277221405947443, 0.0, 0....</td>\n      <td>Dogs</td>\n    </tr>\n    <tr>\n      <th>1</th>\n      <td>[0.0, 0.0, 0.0, 0.0, 0.0, 0.0, 0.0, 0.0, 0.0, ...</td>\n      <td>Dogs</td>\n    </tr>\n    <tr>\n      <th>2</th>\n      <td>[0.0, 0.0, 0.0, 0.0, 0.0, 0.0, 0.0, 0.0, 0.0, ...</td>\n      <td>Dogs</td>\n    </tr>\n    <tr>\n      <th>3</th>\n      <td>[0.0, 0.0, 0.0, 0.005319274882568527, 0.0, 0.0...</td>\n      <td>Dogs</td>\n    </tr>\n    <tr>\n      <th>4</th>\n      <td>[0.0, 0.0, 0.0, 0.005244524803316583, 0.0, 0.0...</td>\n      <td>Dogs</td>\n    </tr>\n    <tr>\n      <th>...</th>\n      <td>...</td>\n      <td>...</td>\n    </tr>\n    <tr>\n      <th>5006</th>\n      <td>[0.0, 0.0, 0.0, 0.0, 0.0, 0.0, 0.0, 0.0, 0.0, ...</td>\n      <td>Cats</td>\n    </tr>\n    <tr>\n      <th>5007</th>\n      <td>[0.0, 0.0, 0.0, 0.010207850577404665, 0.0, 0.0...</td>\n      <td>Cats</td>\n    </tr>\n    <tr>\n      <th>5008</th>\n      <td>[0.0, 0.0, 0.0, 0.0, 0.0, 0.0, 0.0, 0.0, 0.0, ...</td>\n      <td>Cats</td>\n    </tr>\n    <tr>\n      <th>5009</th>\n      <td>[0.0, 0.0, 0.0, 0.0, 0.0, 0.0, 0.0024008631617...</td>\n      <td>Cats</td>\n    </tr>\n    <tr>\n      <th>5010</th>\n      <td>[0.0, 0.0027991985895462522, 0.0, 0.0, 0.0, 0....</td>\n      <td>Cats</td>\n    </tr>\n  </tbody>\n</table>\n<p>10028 rows × 2 columns</p>\n</div>"
     },
     "metadata": {},
     "execution_count": 26
    }
   ],
   "source": [
    "df_unshuffled = df_dog.append(df_cat)\n",
    "df_unshuffled"
   ]
  },
  {
   "cell_type": "code",
   "execution_count": 27,
   "metadata": {},
   "outputs": [
    {
     "output_type": "execute_result",
     "data": {
      "text/plain": [
       "                                               ResNet50 Label\n",
       "2562  [0.0, 0.0, 0.0, 0.005602303620727784, 0.0, 0.0...  Cats\n",
       "2183  [0.0, 0.0, 0.0, 0.0, 0.0, 0.0, 0.0, 0.0, 0.0, ...  Dogs\n",
       "4330  [0.0, 0.0, 0.0, 0.0, 0.0, 0.0, 0.0, 0.0, 0.000...  Dogs\n",
       "2756  [0.0, 0.0, 0.0, 0.0, 0.0, 0.0, 0.0058945484268...  Dogs\n",
       "4700  [0.0, 0.0, 0.0, 0.0, 0.0, 0.0, 0.0, 0.0, 0.0, ...  Dogs\n",
       "...                                                 ...   ...\n",
       "4932  [0.0, 0.0, 0.0, 0.0, 0.0, 0.0, 0.0048344152121...  Cats\n",
       "4694  [0.0, 0.0, 0.0, 0.0, 0.0, 0.0, 0.0, 0.0, 0.0, ...  Cats\n",
       "4483  [0.0, 0.0, 0.001740520344749655, 0.0, 0.0, 0.0...  Dogs\n",
       "287   [0.0, 0.0, 0.0, 0.0, 0.0, 0.0, 0.0, 0.0, 0.000...  Dogs\n",
       "2814  [0.0, 0.0, 0.0, 0.0, 0.0, 0.0, 0.0, 0.0, 0.0, ...  Dogs\n",
       "\n",
       "[10028 rows x 2 columns]"
      ],
      "text/html": "<div>\n<style scoped>\n    .dataframe tbody tr th:only-of-type {\n        vertical-align: middle;\n    }\n\n    .dataframe tbody tr th {\n        vertical-align: top;\n    }\n\n    .dataframe thead th {\n        text-align: right;\n    }\n</style>\n<table border=\"1\" class=\"dataframe\">\n  <thead>\n    <tr style=\"text-align: right;\">\n      <th></th>\n      <th>ResNet50</th>\n      <th>Label</th>\n    </tr>\n  </thead>\n  <tbody>\n    <tr>\n      <th>2562</th>\n      <td>[0.0, 0.0, 0.0, 0.005602303620727784, 0.0, 0.0...</td>\n      <td>Cats</td>\n    </tr>\n    <tr>\n      <th>2183</th>\n      <td>[0.0, 0.0, 0.0, 0.0, 0.0, 0.0, 0.0, 0.0, 0.0, ...</td>\n      <td>Dogs</td>\n    </tr>\n    <tr>\n      <th>4330</th>\n      <td>[0.0, 0.0, 0.0, 0.0, 0.0, 0.0, 0.0, 0.0, 0.000...</td>\n      <td>Dogs</td>\n    </tr>\n    <tr>\n      <th>2756</th>\n      <td>[0.0, 0.0, 0.0, 0.0, 0.0, 0.0, 0.0058945484268...</td>\n      <td>Dogs</td>\n    </tr>\n    <tr>\n      <th>4700</th>\n      <td>[0.0, 0.0, 0.0, 0.0, 0.0, 0.0, 0.0, 0.0, 0.0, ...</td>\n      <td>Dogs</td>\n    </tr>\n    <tr>\n      <th>...</th>\n      <td>...</td>\n      <td>...</td>\n    </tr>\n    <tr>\n      <th>4932</th>\n      <td>[0.0, 0.0, 0.0, 0.0, 0.0, 0.0, 0.0048344152121...</td>\n      <td>Cats</td>\n    </tr>\n    <tr>\n      <th>4694</th>\n      <td>[0.0, 0.0, 0.0, 0.0, 0.0, 0.0, 0.0, 0.0, 0.0, ...</td>\n      <td>Cats</td>\n    </tr>\n    <tr>\n      <th>4483</th>\n      <td>[0.0, 0.0, 0.001740520344749655, 0.0, 0.0, 0.0...</td>\n      <td>Dogs</td>\n    </tr>\n    <tr>\n      <th>287</th>\n      <td>[0.0, 0.0, 0.0, 0.0, 0.0, 0.0, 0.0, 0.0, 0.000...</td>\n      <td>Dogs</td>\n    </tr>\n    <tr>\n      <th>2814</th>\n      <td>[0.0, 0.0, 0.0, 0.0, 0.0, 0.0, 0.0, 0.0, 0.0, ...</td>\n      <td>Dogs</td>\n    </tr>\n  </tbody>\n</table>\n<p>10028 rows × 2 columns</p>\n</div>"
     },
     "metadata": {},
     "execution_count": 27
    }
   ],
   "source": [
    "train_set = df_unshuffled.sample(frac=1)\n",
    "train_set"
   ]
  },
  {
   "cell_type": "code",
   "execution_count": 28,
   "metadata": {},
   "outputs": [
    {
     "output_type": "execute_result",
     "data": {
      "text/plain": [
       "       index                                           ResNet50 Label\n",
       "0       2562  [0.0, 0.0, 0.0, 0.005602303620727784, 0.0, 0.0...  Cats\n",
       "1       2183  [0.0, 0.0, 0.0, 0.0, 0.0, 0.0, 0.0, 0.0, 0.0, ...  Dogs\n",
       "2       4330  [0.0, 0.0, 0.0, 0.0, 0.0, 0.0, 0.0, 0.0, 0.000...  Dogs\n",
       "3       2756  [0.0, 0.0, 0.0, 0.0, 0.0, 0.0, 0.0058945484268...  Dogs\n",
       "4       4700  [0.0, 0.0, 0.0, 0.0, 0.0, 0.0, 0.0, 0.0, 0.0, ...  Dogs\n",
       "...      ...                                                ...   ...\n",
       "10023   4932  [0.0, 0.0, 0.0, 0.0, 0.0, 0.0, 0.0048344152121...  Cats\n",
       "10024   4694  [0.0, 0.0, 0.0, 0.0, 0.0, 0.0, 0.0, 0.0, 0.0, ...  Cats\n",
       "10025   4483  [0.0, 0.0, 0.001740520344749655, 0.0, 0.0, 0.0...  Dogs\n",
       "10026    287  [0.0, 0.0, 0.0, 0.0, 0.0, 0.0, 0.0, 0.0, 0.000...  Dogs\n",
       "10027   2814  [0.0, 0.0, 0.0, 0.0, 0.0, 0.0, 0.0, 0.0, 0.0, ...  Dogs\n",
       "\n",
       "[10028 rows x 3 columns]"
      ],
      "text/html": "<div>\n<style scoped>\n    .dataframe tbody tr th:only-of-type {\n        vertical-align: middle;\n    }\n\n    .dataframe tbody tr th {\n        vertical-align: top;\n    }\n\n    .dataframe thead th {\n        text-align: right;\n    }\n</style>\n<table border=\"1\" class=\"dataframe\">\n  <thead>\n    <tr style=\"text-align: right;\">\n      <th></th>\n      <th>index</th>\n      <th>ResNet50</th>\n      <th>Label</th>\n    </tr>\n  </thead>\n  <tbody>\n    <tr>\n      <th>0</th>\n      <td>2562</td>\n      <td>[0.0, 0.0, 0.0, 0.005602303620727784, 0.0, 0.0...</td>\n      <td>Cats</td>\n    </tr>\n    <tr>\n      <th>1</th>\n      <td>2183</td>\n      <td>[0.0, 0.0, 0.0, 0.0, 0.0, 0.0, 0.0, 0.0, 0.0, ...</td>\n      <td>Dogs</td>\n    </tr>\n    <tr>\n      <th>2</th>\n      <td>4330</td>\n      <td>[0.0, 0.0, 0.0, 0.0, 0.0, 0.0, 0.0, 0.0, 0.000...</td>\n      <td>Dogs</td>\n    </tr>\n    <tr>\n      <th>3</th>\n      <td>2756</td>\n      <td>[0.0, 0.0, 0.0, 0.0, 0.0, 0.0, 0.0058945484268...</td>\n      <td>Dogs</td>\n    </tr>\n    <tr>\n      <th>4</th>\n      <td>4700</td>\n      <td>[0.0, 0.0, 0.0, 0.0, 0.0, 0.0, 0.0, 0.0, 0.0, ...</td>\n      <td>Dogs</td>\n    </tr>\n    <tr>\n      <th>...</th>\n      <td>...</td>\n      <td>...</td>\n      <td>...</td>\n    </tr>\n    <tr>\n      <th>10023</th>\n      <td>4932</td>\n      <td>[0.0, 0.0, 0.0, 0.0, 0.0, 0.0, 0.0048344152121...</td>\n      <td>Cats</td>\n    </tr>\n    <tr>\n      <th>10024</th>\n      <td>4694</td>\n      <td>[0.0, 0.0, 0.0, 0.0, 0.0, 0.0, 0.0, 0.0, 0.0, ...</td>\n      <td>Cats</td>\n    </tr>\n    <tr>\n      <th>10025</th>\n      <td>4483</td>\n      <td>[0.0, 0.0, 0.001740520344749655, 0.0, 0.0, 0.0...</td>\n      <td>Dogs</td>\n    </tr>\n    <tr>\n      <th>10026</th>\n      <td>287</td>\n      <td>[0.0, 0.0, 0.0, 0.0, 0.0, 0.0, 0.0, 0.0, 0.000...</td>\n      <td>Dogs</td>\n    </tr>\n    <tr>\n      <th>10027</th>\n      <td>2814</td>\n      <td>[0.0, 0.0, 0.0, 0.0, 0.0, 0.0, 0.0, 0.0, 0.0, ...</td>\n      <td>Dogs</td>\n    </tr>\n  </tbody>\n</table>\n<p>10028 rows × 3 columns</p>\n</div>"
     },
     "metadata": {},
     "execution_count": 28
    }
   ],
   "source": [
    "train_set = train_set.reset_index()\n",
    "train_set\n",
    "# train_set[\"MobileNet\"] = train_set[\"MobileNet\"].astype(np.array)\n"
   ]
  },
  {
   "cell_type": "code",
   "execution_count": 30,
   "metadata": {},
   "outputs": [],
   "source": [
    "train_cats_dogs.to_csv(\"train_cats vs dogs_ResNet50.csv\")"
   ]
  },
  {
   "cell_type": "code",
   "execution_count": 29,
   "metadata": {},
   "outputs": [
    {
     "output_type": "stream",
     "name": "stdout",
     "text": [
      "<class 'pandas.core.frame.DataFrame'>\nRangeIndex: 10028 entries, 0 to 10027\nData columns (total 2 columns):\n #   Column    Non-Null Count  Dtype \n---  ------    --------------  ----- \n 0   ResNet50  10028 non-null  object\n 1   Label     10028 non-null  object\ndtypes: object(2)\nmemory usage: 156.8+ KB\n"
     ]
    }
   ],
   "source": [
    "train_cats_dogs = train_set.reset_index().drop([\"index\",\"level_0\"], axis=1)\n",
    "train_cats_dogs.info()\n",
    "with open(\"datasets.p\", \"wb\") as file:\n",
    "    p.dump(train_cats_dogs, file)"
   ]
  },
  {
   "cell_type": "code",
   "execution_count": 15,
   "metadata": {},
   "outputs": [
    {
     "output_type": "execute_result",
     "data": {
      "text/plain": [
       "<TensorSliceDataset shapes: ((100352,), ()), types: (tf.float64, tf.string)>"
      ]
     },
     "metadata": {},
     "execution_count": 15
    }
   ],
   "source": [
    "tf.data.Dataset.from_tensor_slices((np.vstack(train_cats_dogs[\"MobileNet\"].values), train_cats_dogs[\"Label\"].values))"
   ]
  },
  {
   "cell_type": "code",
   "execution_count": 17,
   "metadata": {},
   "outputs": [
    {
     "output_type": "execute_result",
     "data": {
      "text/plain": [
       "<tf.Tensor: shape=(10028, 100352), dtype=float64, numpy=\n",
       "array([[0.        , 0.        , 0.        , ..., 0.00026128, 0.        ,\n",
       "        0.0087525 ],\n",
       "       [0.        , 0.        , 0.        , ..., 0.00263426, 0.        ,\n",
       "        0.        ],\n",
       "       [0.        , 0.        , 0.        , ..., 0.        , 0.        ,\n",
       "        0.        ],\n",
       "       ...,\n",
       "       [0.        , 0.        , 0.        , ..., 0.        , 0.        ,\n",
       "        0.        ],\n",
       "       [0.        , 0.        , 0.        , ..., 0.        , 0.        ,\n",
       "        0.        ],\n",
       "       [0.        , 0.        , 0.        , ..., 0.00967014, 0.00011301,\n",
       "        0.        ]])>"
      ]
     },
     "metadata": {},
     "execution_count": 17
    }
   ],
   "source": [
    "tf.convert_to_tensor(np.vstack(train_cats_dogs[\"MobileNet\"].values), dtype=tf.float64)"
   ]
  },
  {
   "cell_type": "code",
   "execution_count": 19,
   "metadata": {},
   "outputs": [
    {
     "output_type": "error",
     "ename": "NameError",
     "evalue": "name 'tf_data' is not defined",
     "traceback": [
      "\u001b[1;31m---------------------------------------------------------------------------\u001b[0m",
      "\u001b[1;31mNameError\u001b[0m                                 Traceback (most recent call last)",
      "\u001b[1;32m<ipython-input-19-e6fa67d1b317>\u001b[0m in \u001b[0;36m<module>\u001b[1;34m\u001b[0m\n\u001b[0;32m      1\u001b[0m \u001b[1;32mwith\u001b[0m \u001b[0mopen\u001b[0m\u001b[1;33m(\u001b[0m\u001b[1;34m\"tf_data.p\"\u001b[0m\u001b[1;33m,\u001b[0m \u001b[1;34m\"wb\"\u001b[0m\u001b[1;33m)\u001b[0m \u001b[1;32mas\u001b[0m \u001b[0mfile\u001b[0m\u001b[1;33m:\u001b[0m\u001b[1;33m\u001b[0m\u001b[1;33m\u001b[0m\u001b[0m\n\u001b[1;32m----> 2\u001b[1;33m     \u001b[0mp\u001b[0m\u001b[1;33m.\u001b[0m\u001b[0mdump\u001b[0m\u001b[1;33m(\u001b[0m\u001b[0mtf_data\u001b[0m\u001b[1;33m,\u001b[0m \u001b[0mfile\u001b[0m\u001b[1;33m)\u001b[0m\u001b[1;33m\u001b[0m\u001b[1;33m\u001b[0m\u001b[0m\n\u001b[0m",
      "\u001b[1;31mNameError\u001b[0m: name 'tf_data' is not defined"
     ]
    }
   ],
   "source": [
    "with open(\"tf_data.p\", \"wb\") as file:\n",
    "    p.dump(tf_data, file)"
   ]
  },
  {
   "cell_type": "code",
   "execution_count": 21,
   "metadata": {
    "tags": []
   },
   "outputs": [
    {
     "output_type": "error",
     "ename": "NameError",
     "evalue": "name 'tf_data' is not defined",
     "traceback": [
      "\u001b[1;31m---------------------------------------------------------------------------\u001b[0m",
      "\u001b[1;31mNameError\u001b[0m                                 Traceback (most recent call last)",
      "\u001b[1;32m<ipython-input-21-6bdfe7ab09d6>\u001b[0m in \u001b[0;36m<module>\u001b[1;34m\u001b[0m\n\u001b[1;32m----> 1\u001b[1;33m \u001b[1;32mfor\u001b[0m \u001b[0mfeat\u001b[0m\u001b[1;33m,\u001b[0m \u001b[0mtarg\u001b[0m \u001b[1;32min\u001b[0m \u001b[0mtf_data\u001b[0m\u001b[1;33m.\u001b[0m\u001b[0mtake\u001b[0m\u001b[1;33m(\u001b[0m\u001b[1;36m2\u001b[0m\u001b[1;33m)\u001b[0m\u001b[1;33m:\u001b[0m\u001b[1;33m\u001b[0m\u001b[1;33m\u001b[0m\u001b[0m\n\u001b[0m\u001b[0;32m      2\u001b[0m   \u001b[0mprint\u001b[0m \u001b[1;33m(\u001b[0m\u001b[1;34m'Features: {}, Target: {}'\u001b[0m\u001b[1;33m.\u001b[0m\u001b[0mformat\u001b[0m\u001b[1;33m(\u001b[0m\u001b[0mfeat\u001b[0m\u001b[1;33m,\u001b[0m \u001b[0mtarg\u001b[0m\u001b[1;33m)\u001b[0m\u001b[1;33m)\u001b[0m\u001b[1;33m\u001b[0m\u001b[1;33m\u001b[0m\u001b[0m\n",
      "\u001b[1;31mNameError\u001b[0m: name 'tf_data' is not defined"
     ]
    }
   ],
   "source": [
    "for feat, targ in tf_data.take(2):\n",
    "  print ('Features: {}, Target: {}'.format(feat, targ))"
   ]
  },
  {
   "cell_type": "code",
   "execution_count": null,
   "metadata": {},
   "outputs": [],
   "source": []
  }
 ]
}