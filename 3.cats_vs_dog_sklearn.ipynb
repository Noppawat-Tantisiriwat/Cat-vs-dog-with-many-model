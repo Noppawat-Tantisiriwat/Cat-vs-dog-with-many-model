{
 "metadata": {
  "language_info": {
   "codemirror_mode": {
    "name": "ipython",
    "version": 3
   },
   "file_extension": ".py",
   "mimetype": "text/x-python",
   "name": "python",
   "nbconvert_exporter": "python",
   "pygments_lexer": "ipython3",
   "version": "3.7.7-final"
  },
  "orig_nbformat": 2,
  "kernelspec": {
   "name": "python3",
   "display_name": "Python 3.7.7 64-bit",
   "metadata": {
    "interpreter": {
     "hash": "5b0b4c45cfe7490bdfaa829b5953ab2aed6c534f797643e365b4be91477e52ac"
    }
   }
  }
 },
 "nbformat": 4,
 "nbformat_minor": 2,
 "cells": [
  {
   "cell_type": "code",
   "execution_count": 51,
   "metadata": {},
   "outputs": [],
   "source": [
    "import pickle as p\n",
    "import pandas as pd\n",
    "import numpy as np"
   ]
  },
  {
   "cell_type": "code",
   "execution_count": 52,
   "metadata": {},
   "outputs": [],
   "source": [
    "from sklearn.preprocessing import LabelEncoder\n",
    "from sklearn.model_selection import train_test_split\n",
    "from sklearn.model_selection import cross_validate\n",
    "from sklearn.svm import SVC, LinearSVC\n",
    "from sklearn.neural_network import MLPClassifier\n",
    "from sklearn.neighbors import KNeighborsClassifier\n",
    "from sklearn.metrics import accuracy_score\n",
    "from sklearn.linear_model import SGDClassifier, LogisticRegressionCV"
   ]
  },
  {
   "cell_type": "code",
   "execution_count": 53,
   "metadata": {},
   "outputs": [],
   "source": [
    "with open(\"datasets.p\", \"rb\") as file:\n",
    "    dataset = p.load(file)"
   ]
  },
  {
   "cell_type": "code",
   "execution_count": 54,
   "metadata": {},
   "outputs": [],
   "source": [
    "# define LabelEncoder as Le\n",
    "Le = LabelEncoder()"
   ]
  },
  {
   "source": [
    "dataset"
   ],
   "cell_type": "code",
   "metadata": {},
   "execution_count": 55,
   "outputs": [
    {
     "output_type": "execute_result",
     "data": {
      "text/plain": [
       "                                                ResNet50 Label\n",
       "0      [0.0, 0.0, 0.0, 0.005602303620727784, 0.0, 0.0...  Cats\n",
       "1      [0.0, 0.0, 0.0, 0.0, 0.0, 0.0, 0.0, 0.0, 0.0, ...  Dogs\n",
       "2      [0.0, 0.0, 0.0, 0.0, 0.0, 0.0, 0.0, 0.0, 0.000...  Dogs\n",
       "3      [0.0, 0.0, 0.0, 0.0, 0.0, 0.0, 0.0058945484268...  Dogs\n",
       "4      [0.0, 0.0, 0.0, 0.0, 0.0, 0.0, 0.0, 0.0, 0.0, ...  Dogs\n",
       "...                                                  ...   ...\n",
       "10023  [0.0, 0.0, 0.0, 0.0, 0.0, 0.0, 0.0048344152121...  Cats\n",
       "10024  [0.0, 0.0, 0.0, 0.0, 0.0, 0.0, 0.0, 0.0, 0.0, ...  Cats\n",
       "10025  [0.0, 0.0, 0.001740520344749655, 0.0, 0.0, 0.0...  Dogs\n",
       "10026  [0.0, 0.0, 0.0, 0.0, 0.0, 0.0, 0.0, 0.0, 0.000...  Dogs\n",
       "10027  [0.0, 0.0, 0.0, 0.0, 0.0, 0.0, 0.0, 0.0, 0.0, ...  Dogs\n",
       "\n",
       "[10028 rows x 2 columns]"
      ],
      "text/html": "<div>\n<style scoped>\n    .dataframe tbody tr th:only-of-type {\n        vertical-align: middle;\n    }\n\n    .dataframe tbody tr th {\n        vertical-align: top;\n    }\n\n    .dataframe thead th {\n        text-align: right;\n    }\n</style>\n<table border=\"1\" class=\"dataframe\">\n  <thead>\n    <tr style=\"text-align: right;\">\n      <th></th>\n      <th>ResNet50</th>\n      <th>Label</th>\n    </tr>\n  </thead>\n  <tbody>\n    <tr>\n      <th>0</th>\n      <td>[0.0, 0.0, 0.0, 0.005602303620727784, 0.0, 0.0...</td>\n      <td>Cats</td>\n    </tr>\n    <tr>\n      <th>1</th>\n      <td>[0.0, 0.0, 0.0, 0.0, 0.0, 0.0, 0.0, 0.0, 0.0, ...</td>\n      <td>Dogs</td>\n    </tr>\n    <tr>\n      <th>2</th>\n      <td>[0.0, 0.0, 0.0, 0.0, 0.0, 0.0, 0.0, 0.0, 0.000...</td>\n      <td>Dogs</td>\n    </tr>\n    <tr>\n      <th>3</th>\n      <td>[0.0, 0.0, 0.0, 0.0, 0.0, 0.0, 0.0058945484268...</td>\n      <td>Dogs</td>\n    </tr>\n    <tr>\n      <th>4</th>\n      <td>[0.0, 0.0, 0.0, 0.0, 0.0, 0.0, 0.0, 0.0, 0.0, ...</td>\n      <td>Dogs</td>\n    </tr>\n    <tr>\n      <th>...</th>\n      <td>...</td>\n      <td>...</td>\n    </tr>\n    <tr>\n      <th>10023</th>\n      <td>[0.0, 0.0, 0.0, 0.0, 0.0, 0.0, 0.0048344152121...</td>\n      <td>Cats</td>\n    </tr>\n    <tr>\n      <th>10024</th>\n      <td>[0.0, 0.0, 0.0, 0.0, 0.0, 0.0, 0.0, 0.0, 0.0, ...</td>\n      <td>Cats</td>\n    </tr>\n    <tr>\n      <th>10025</th>\n      <td>[0.0, 0.0, 0.001740520344749655, 0.0, 0.0, 0.0...</td>\n      <td>Dogs</td>\n    </tr>\n    <tr>\n      <th>10026</th>\n      <td>[0.0, 0.0, 0.0, 0.0, 0.0, 0.0, 0.0, 0.0, 0.000...</td>\n      <td>Dogs</td>\n    </tr>\n    <tr>\n      <th>10027</th>\n      <td>[0.0, 0.0, 0.0, 0.0, 0.0, 0.0, 0.0, 0.0, 0.0, ...</td>\n      <td>Dogs</td>\n    </tr>\n  </tbody>\n</table>\n<p>10028 rows × 2 columns</p>\n</div>"
     },
     "metadata": {},
     "execution_count": 55
    }
   ]
  },
  {
   "cell_type": "code",
   "execution_count": 56,
   "metadata": {},
   "outputs": [
    {
     "output_type": "execute_result",
     "data": {
      "text/plain": [
       "array(['Cats', 'Dogs'], dtype=object)"
      ]
     },
     "metadata": {},
     "execution_count": 56
    }
   ],
   "source": [
    "# encode the Label of the dataset -> asign to \"Label\" column\n",
    "dataset.Label = Le.fit_transform(dataset.Label)\n",
    "Le.classes_"
   ]
  },
  {
   "cell_type": "code",
   "execution_count": 57,
   "metadata": {},
   "outputs": [
    {
     "output_type": "execute_result",
     "data": {
      "text/plain": [
       "                                                ResNet50  Label\n",
       "0      [0.0, 0.0, 0.0, 0.005602303620727784, 0.0, 0.0...      0\n",
       "1      [0.0, 0.0, 0.0, 0.0, 0.0, 0.0, 0.0, 0.0, 0.0, ...      1\n",
       "2      [0.0, 0.0, 0.0, 0.0, 0.0, 0.0, 0.0, 0.0, 0.000...      1\n",
       "3      [0.0, 0.0, 0.0, 0.0, 0.0, 0.0, 0.0058945484268...      1\n",
       "4      [0.0, 0.0, 0.0, 0.0, 0.0, 0.0, 0.0, 0.0, 0.0, ...      1\n",
       "...                                                  ...    ...\n",
       "10023  [0.0, 0.0, 0.0, 0.0, 0.0, 0.0, 0.0048344152121...      0\n",
       "10024  [0.0, 0.0, 0.0, 0.0, 0.0, 0.0, 0.0, 0.0, 0.0, ...      0\n",
       "10025  [0.0, 0.0, 0.001740520344749655, 0.0, 0.0, 0.0...      1\n",
       "10026  [0.0, 0.0, 0.0, 0.0, 0.0, 0.0, 0.0, 0.0, 0.000...      1\n",
       "10027  [0.0, 0.0, 0.0, 0.0, 0.0, 0.0, 0.0, 0.0, 0.0, ...      1\n",
       "\n",
       "[10028 rows x 2 columns]"
      ],
      "text/html": "<div>\n<style scoped>\n    .dataframe tbody tr th:only-of-type {\n        vertical-align: middle;\n    }\n\n    .dataframe tbody tr th {\n        vertical-align: top;\n    }\n\n    .dataframe thead th {\n        text-align: right;\n    }\n</style>\n<table border=\"1\" class=\"dataframe\">\n  <thead>\n    <tr style=\"text-align: right;\">\n      <th></th>\n      <th>ResNet50</th>\n      <th>Label</th>\n    </tr>\n  </thead>\n  <tbody>\n    <tr>\n      <th>0</th>\n      <td>[0.0, 0.0, 0.0, 0.005602303620727784, 0.0, 0.0...</td>\n      <td>0</td>\n    </tr>\n    <tr>\n      <th>1</th>\n      <td>[0.0, 0.0, 0.0, 0.0, 0.0, 0.0, 0.0, 0.0, 0.0, ...</td>\n      <td>1</td>\n    </tr>\n    <tr>\n      <th>2</th>\n      <td>[0.0, 0.0, 0.0, 0.0, 0.0, 0.0, 0.0, 0.0, 0.000...</td>\n      <td>1</td>\n    </tr>\n    <tr>\n      <th>3</th>\n      <td>[0.0, 0.0, 0.0, 0.0, 0.0, 0.0, 0.0058945484268...</td>\n      <td>1</td>\n    </tr>\n    <tr>\n      <th>4</th>\n      <td>[0.0, 0.0, 0.0, 0.0, 0.0, 0.0, 0.0, 0.0, 0.0, ...</td>\n      <td>1</td>\n    </tr>\n    <tr>\n      <th>...</th>\n      <td>...</td>\n      <td>...</td>\n    </tr>\n    <tr>\n      <th>10023</th>\n      <td>[0.0, 0.0, 0.0, 0.0, 0.0, 0.0, 0.0048344152121...</td>\n      <td>0</td>\n    </tr>\n    <tr>\n      <th>10024</th>\n      <td>[0.0, 0.0, 0.0, 0.0, 0.0, 0.0, 0.0, 0.0, 0.0, ...</td>\n      <td>0</td>\n    </tr>\n    <tr>\n      <th>10025</th>\n      <td>[0.0, 0.0, 0.001740520344749655, 0.0, 0.0, 0.0...</td>\n      <td>1</td>\n    </tr>\n    <tr>\n      <th>10026</th>\n      <td>[0.0, 0.0, 0.0, 0.0, 0.0, 0.0, 0.0, 0.0, 0.000...</td>\n      <td>1</td>\n    </tr>\n    <tr>\n      <th>10027</th>\n      <td>[0.0, 0.0, 0.0, 0.0, 0.0, 0.0, 0.0, 0.0, 0.0, ...</td>\n      <td>1</td>\n    </tr>\n  </tbody>\n</table>\n<p>10028 rows × 2 columns</p>\n</div>"
     },
     "metadata": {},
     "execution_count": 57
    }
   ],
   "source": [
    "dataset"
   ]
  },
  {
   "cell_type": "code",
   "execution_count": 58,
   "metadata": {},
   "outputs": [],
   "source": [
    "X_train, X_test, y_train, y_test = train_test_split(dataset.ResNet50, dataset.Label, test_size=0.2)"
   ]
  },
  {
   "cell_type": "code",
   "execution_count": 59,
   "metadata": {},
   "outputs": [],
   "source": [
    "nn = MLPClassifier(verbose=True, early_stopping=True)\n",
    "knn = KNeighborsClassifier()\n",
    "svc = SVC()"
   ]
  },
  {
   "cell_type": "code",
   "execution_count": 60,
   "metadata": {},
   "outputs": [
    {
     "output_type": "stream",
     "name": "stdout",
     "text": [
      "Iteration 1, loss = 0.17824878\n",
      "Validation score: 0.991283\n",
      "Iteration 2, loss = 0.02977290\n",
      "Validation score: 0.997509\n",
      "Iteration 3, loss = 0.01676700\n",
      "Validation score: 0.998755\n",
      "Iteration 4, loss = 0.01019060\n",
      "Validation score: 0.998755\n",
      "Iteration 5, loss = 0.00688017\n",
      "Validation score: 0.998755\n",
      "Iteration 6, loss = 0.00506419\n",
      "Validation score: 0.998755\n",
      "Iteration 7, loss = 0.00392259\n",
      "Validation score: 0.998755\n",
      "Iteration 8, loss = 0.00318725\n",
      "Validation score: 0.998755\n",
      "Iteration 9, loss = 0.00270350\n",
      "Validation score: 0.998755\n",
      "Iteration 10, loss = 0.00239453\n",
      "Validation score: 0.998755\n",
      "Iteration 11, loss = 0.00216108\n",
      "Validation score: 0.998755\n",
      "Iteration 12, loss = 0.00200790\n",
      "Validation score: 0.998755\n",
      "Iteration 13, loss = 0.00188801\n",
      "Validation score: 0.998755\n",
      "Iteration 14, loss = 0.00179210\n",
      "Validation score: 0.998755\n",
      "Validation score did not improve more than tol=0.000100 for 10 consecutive epochs. Stopping.\n"
     ]
    },
    {
     "output_type": "execute_result",
     "data": {
      "text/plain": [
       "MLPClassifier(early_stopping=True, verbose=True)"
      ]
     },
     "metadata": {},
     "execution_count": 60
    }
   ],
   "source": [
    "nn.fit(np.vstack(X_train.values), y_train)"
   ]
  },
  {
   "cell_type": "code",
   "execution_count": 61,
   "metadata": {},
   "outputs": [
    {
     "output_type": "execute_result",
     "data": {
      "text/plain": [
       "KNeighborsClassifier()"
      ]
     },
     "metadata": {},
     "execution_count": 61
    }
   ],
   "source": [
    "knn.fit(np.vstack(X_train), y_train)"
   ]
  },
  {
   "cell_type": "code",
   "execution_count": 62,
   "metadata": {},
   "outputs": [
    {
     "output_type": "execute_result",
     "data": {
      "text/plain": [
       "SVC()"
      ]
     },
     "metadata": {},
     "execution_count": 62
    }
   ],
   "source": [
    "svc.fit(np.vstack(X_train), y_train)"
   ]
  },
  {
   "cell_type": "code",
   "execution_count": 63,
   "metadata": {},
   "outputs": [],
   "source": [
    "y_pred_nn = nn.predict(np.vstack(X_test))"
   ]
  },
  {
   "cell_type": "code",
   "execution_count": 64,
   "metadata": {},
   "outputs": [
    {
     "output_type": "stream",
     "name": "stdout",
     "text": [
      "0.9890329012961117\n"
     ]
    }
   ],
   "source": [
    "print(accuracy_score(y_pred_nn, y_test))"
   ]
  },
  {
   "cell_type": "code",
   "execution_count": 65,
   "metadata": {},
   "outputs": [],
   "source": [
    "y_pred_knn = knn.predict(np.vstack(X_test))"
   ]
  },
  {
   "cell_type": "code",
   "execution_count": 66,
   "metadata": {},
   "outputs": [
    {
     "output_type": "stream",
     "name": "stdout",
     "text": [
      "0.9860418743768694\n"
     ]
    }
   ],
   "source": [
    "print(accuracy_score(y_pred_knn, y_test))"
   ]
  },
  {
   "cell_type": "code",
   "execution_count": 67,
   "metadata": {},
   "outputs": [],
   "source": [
    "y_pred_svc = svc.predict(np.vstack(X_test))"
   ]
  },
  {
   "cell_type": "code",
   "execution_count": 68,
   "metadata": {},
   "outputs": [
    {
     "output_type": "stream",
     "name": "stdout",
     "text": [
      "0.9915254237288136\n"
     ]
    }
   ],
   "source": [
    "print(accuracy_score(y_pred_svc, y_test))"
   ]
  },
  {
   "cell_type": "code",
   "execution_count": 69,
   "metadata": {},
   "outputs": [],
   "source": [
    "lin_svc = LinearSVC()"
   ]
  },
  {
   "cell_type": "code",
   "execution_count": 70,
   "metadata": {},
   "outputs": [
    {
     "output_type": "execute_result",
     "data": {
      "text/plain": [
       "LinearSVC()"
      ]
     },
     "metadata": {},
     "execution_count": 70
    }
   ],
   "source": [
    "lin_svc.fit(np.vstack(X_train), y_train)"
   ]
  },
  {
   "cell_type": "code",
   "execution_count": 71,
   "metadata": {},
   "outputs": [],
   "source": [
    "y_pred_lin_svc = lin_svc.predict(np.vstack(X_test))"
   ]
  },
  {
   "cell_type": "code",
   "execution_count": 72,
   "metadata": {},
   "outputs": [
    {
     "output_type": "stream",
     "name": "stdout",
     "text": [
      "0.9920239282153539\n"
     ]
    }
   ],
   "source": [
    "print(accuracy_score(y_pred_lin_svc, y_test))"
   ]
  },
  {
   "cell_type": "code",
   "execution_count": 73,
   "metadata": {},
   "outputs": [
    {
     "output_type": "stream",
     "name": "stdout",
     "text": [
      "0.9920239282153539\n"
     ]
    }
   ],
   "source": [
    "log_cv = LogisticRegressionCV()\n",
    "log_cv.fit(np.vstack(X_train), y_train)\n",
    "y_pred_log_cv = log_cv.predict(np.vstack(X_test))\n",
    "print(accuracy_score(y_pred_log_cv, y_test))"
   ]
  },
  {
   "cell_type": "code",
   "execution_count": 74,
   "metadata": {},
   "outputs": [
    {
     "output_type": "stream",
     "name": "stdout",
     "text": [
      "0.9920239282153539\n"
     ]
    }
   ],
   "source": [
    "sgd = SGDClassifier()\n",
    "sgd.fit(np.vstack(X_train), y_train)\n",
    "y_pred_sgd = sgd.predict(np.vstack(X_test))\n",
    "print(accuracy_score(y_pred_sgd, y_test))"
   ]
  },
  {
   "cell_type": "code",
   "execution_count": 82,
   "metadata": {},
   "outputs": [
    {
     "output_type": "execute_result",
     "data": {
      "text/plain": [
       "array([1, 0, 1, ..., 0, 1, 1])"
      ]
     },
     "metadata": {},
     "execution_count": 82
    }
   ],
   "source": [
    "y_pred_log_cv"
   ]
  },
  {
   "cell_type": "code",
   "execution_count": 75,
   "metadata": {},
   "outputs": [
    {
     "output_type": "execute_result",
     "data": {
      "text/plain": [
       "array(['Dogs', 'Cats', 'Dogs', ..., 'Cats', 'Dogs', 'Dogs'], dtype=object)"
      ]
     },
     "metadata": {},
     "execution_count": 75
    }
   ],
   "source": [
    "Le.inverse_transform(y_pred_log_cv)"
   ]
  },
  {
   "source": [
    "1 = หมา, 0 = แมว\n"
   ],
   "cell_type": "markdown",
   "metadata": {}
  },
  {
   "cell_type": "code",
   "execution_count": 76,
   "metadata": {},
   "outputs": [],
   "source": [
    "with open(\"Neural_Network_sklearn.p\", \"wb\") as file:\n",
    "    p.dump(nn, file)"
   ]
  },
  {
   "cell_type": "code",
   "execution_count": 77,
   "metadata": {},
   "outputs": [],
   "source": [
    "with open(\"Neural_Network_sklearn.mod\", \"wb\") as file:\n",
    "    p.dump(nn, file)"
   ]
  },
  {
   "cell_type": "code",
   "execution_count": 78,
   "metadata": {},
   "outputs": [],
   "source": [
    "with open(\"Linear_SVC_sklearn.p\", \"wb\") as file:\n",
    "    p.dump(lin_svc, file)"
   ]
  },
  {
   "cell_type": "code",
   "execution_count": 79,
   "metadata": {},
   "outputs": [],
   "source": [
    "with open(\"Linear_SVC_sklearn.mod\", \"wb\") as file:\n",
    "    p.dump(lin_svc, file)"
   ]
  },
  {
   "cell_type": "code",
   "execution_count": 80,
   "metadata": {},
   "outputs": [],
   "source": [
    "with open(\"Logistic_CV_sklearn.p\", \"wb\") as file:\n",
    "    p.dump(log_cv, file)"
   ]
  },
  {
   "cell_type": "code",
   "execution_count": 81,
   "metadata": {},
   "outputs": [],
   "source": [
    "with open(\"Logistic_CV_sklearn.mod\", \"wb\") as file:\n",
    "    p.dump(log_cv, file)"
   ]
  },
  {
   "cell_type": "code",
   "execution_count": null,
   "metadata": {},
   "outputs": [],
   "source": [
    "y_og = "
   ]
  }
 ]
}